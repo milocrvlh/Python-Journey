{
  "cells": [
    {
      "cell_type": "markdown",
      "metadata": {
        "id": "ZKMTdmrYMegF"
      },
      "source": [
        "___\n",
        "\n",
        "<a href='https://www.udemy.com/user/joseportilla/'><img src='https://github.com/Pierian-Data/Complete-Python-3-Bootcamp/blob/master/Pierian_Data_Logo.png?raw=1'/></a>\n",
        "___\n",
        "<center><em>Content Copyright by Pierian Data</em></center>"
      ]
    },
    {
      "cell_type": "markdown",
      "metadata": {
        "id": "wyKFsJ3wMegU"
      },
      "source": [
        "# Functions and Methods Homework\n",
        "\n",
        "Complete the following questions:\n",
        "____\n",
        "**Write a function that computes the volume of a sphere given its radius.**\n",
        "<p>The volume of a sphere is given as $$\\frac{4}{3} πr^3$$</p>"
      ]
    },
    {
      "cell_type": "code",
      "execution_count": 14,
      "metadata": {
        "collapsed": true,
        "id": "PmGRzI1oMegY"
      },
      "outputs": [],
      "source": [
        "import math\n",
        "def vol(rad):\n",
        "    return (4/3) * math.pi * (rad)**3\n",
        ""
      ]
    },
    {
      "cell_type": "code",
      "execution_count": 15,
      "metadata": {
        "id": "2HCGBPNnMegj",
        "outputId": "d6bb984a-df61-469f-b546-23cf5305c6e7",
        "colab": {
          "base_uri": "https://localhost:8080/"
        }
      },
      "outputs": [
        {
          "output_type": "execute_result",
          "data": {
            "text/plain": [
              "33.510321638291124"
            ]
          },
          "metadata": {},
          "execution_count": 15
        }
      ],
      "source": [
        "# Check\n",
        "vol(2)"
      ]
    },
    {
      "cell_type": "markdown",
      "metadata": {
        "id": "ZUhlX7gpMegr"
      },
      "source": [
        "___\n",
        "**Write a function that checks whether a number is in a given range (inclusive of high and low)**"
      ]
    },
    {
      "cell_type": "code",
      "execution_count": 18,
      "metadata": {
        "collapsed": true,
        "id": "qtzIZDhCMegx"
      },
      "outputs": [],
      "source": [
        "def ran_check(num,low,high):\n",
        "    if low <= num and num <= high:\n",
        "      print(f\"{num} is in the range between {low} and {high}\")\n",
        "    else:\n",
        "      print(f\"{num} isn't in the range between {low} and {high}\")\n",
        ""
      ]
    },
    {
      "cell_type": "code",
      "execution_count": 19,
      "metadata": {
        "id": "1yl4jZgjMeg2",
        "outputId": "bc6b1e7d-efd8-4b6f-ccb4-99202dc1d366",
        "colab": {
          "base_uri": "https://localhost:8080/"
        }
      },
      "outputs": [
        {
          "output_type": "stream",
          "name": "stdout",
          "text": [
            "5 is in the range between 2 and 7\n"
          ]
        }
      ],
      "source": [
        "# Check\n",
        "ran_check(5,2,7)"
      ]
    },
    {
      "cell_type": "markdown",
      "metadata": {
        "id": "_CzNC3voMeg7"
      },
      "source": [
        "If you only wanted to return a boolean:"
      ]
    },
    {
      "cell_type": "code",
      "execution_count": 20,
      "metadata": {
        "collapsed": true,
        "id": "41xFpHoaMehB"
      },
      "outputs": [],
      "source": [
        "def ran_bool(num,low,high):\n",
        "    return low <= num and num <= high\n"
      ]
    },
    {
      "cell_type": "code",
      "execution_count": 21,
      "metadata": {
        "id": "7PUWQbx0MehH",
        "outputId": "afdc483d-7db0-47f9-bffd-4d7b9cc8e0c7",
        "colab": {
          "base_uri": "https://localhost:8080/"
        }
      },
      "outputs": [
        {
          "output_type": "execute_result",
          "data": {
            "text/plain": [
              "True"
            ]
          },
          "metadata": {},
          "execution_count": 21
        }
      ],
      "source": [
        "ran_bool(3,1,10)"
      ]
    },
    {
      "cell_type": "markdown",
      "metadata": {
        "id": "psfP9cpqMehL"
      },
      "source": [
        "____\n",
        "**Write a Python function that accepts a string and calculates the number of upper case letters and lower case letters.**\n",
        "\n",
        "    Sample String : 'Hello Mr. Rogers, how are you this fine Tuesday?'\n",
        "    Expected Output :\n",
        "    No. of Upper case characters : 4\n",
        "    No. of Lower case Characters : 33\n",
        "\n",
        "HINT: Two string methods that might prove useful: **.isupper()** and **.islower()**\n",
        "\n",
        "If you feel ambitious, explore the Collections module to solve this problem!"
      ]
    },
    {
      "cell_type": "code",
      "execution_count": 23,
      "metadata": {
        "collapsed": true,
        "id": "Z1oV49LXMehO"
      },
      "outputs": [],
      "source": [
        "def up_low(s):\n",
        "    up = 0\n",
        "    low = 0\n",
        "    for i in s:\n",
        "      if i.isupper():\n",
        "        up += 1\n",
        "      elif i.islower():\n",
        "        low += 1\n",
        "    print(f'Original String :  {s}', f'No. of Upper case characters :  {up}', f'No. of Lower case Characters :  {low}', sep='\\n')\n",
        ""
      ]
    },
    {
      "cell_type": "code",
      "execution_count": 24,
      "metadata": {
        "id": "4KystV5XMehQ",
        "outputId": "06599a13-0af6-4364-de8a-fd8b4f3fb8c5",
        "colab": {
          "base_uri": "https://localhost:8080/"
        }
      },
      "outputs": [
        {
          "output_type": "stream",
          "name": "stdout",
          "text": [
            "Original String :  Hello Mr. Rogers, how are you this fine Tuesday?\n",
            "No. of Upper case characters :  4\n",
            "No. of Lower case Characters :  33\n"
          ]
        }
      ],
      "source": [
        "s = 'Hello Mr. Rogers, how are you this fine Tuesday?'\n",
        "up_low(s)"
      ]
    },
    {
      "cell_type": "markdown",
      "metadata": {
        "id": "SaWBpv2dMehT"
      },
      "source": [
        "____\n",
        "**Write a Python function that takes a list and returns a new list with unique elements of the first list.**\n",
        "\n",
        "    Sample List : [1,1,1,1,2,2,3,3,3,3,4,5]\n",
        "    Unique List : [1, 2, 3, 4, 5]"
      ]
    },
    {
      "cell_type": "code",
      "execution_count": 25,
      "metadata": {
        "collapsed": true,
        "id": "6EwUBDt6MehV"
      },
      "outputs": [],
      "source": [
        "def unique_list(lst):\n",
        "    return list(set(lst))"
      ]
    },
    {
      "cell_type": "code",
      "execution_count": 26,
      "metadata": {
        "id": "qIuMt4jjMehY",
        "outputId": "5d7b4246-1c8a-48a2-cdbf-2f4d734ca9de",
        "colab": {
          "base_uri": "https://localhost:8080/"
        }
      },
      "outputs": [
        {
          "output_type": "execute_result",
          "data": {
            "text/plain": [
              "[1, 2, 3, 4, 5]"
            ]
          },
          "metadata": {},
          "execution_count": 26
        }
      ],
      "source": [
        "unique_list([1,1,1,1,2,2,3,3,3,3,4,5])"
      ]
    },
    {
      "cell_type": "markdown",
      "metadata": {
        "id": "qEJZAHAkMehc"
      },
      "source": [
        "____\n",
        "**Write a Python function to multiply all the numbers in a list.**\n",
        "\n",
        "    Sample List : [1, 2, 3, -4]\n",
        "    Expected Output : -24"
      ]
    },
    {
      "cell_type": "code",
      "execution_count": 28,
      "metadata": {
        "collapsed": true,
        "id": "2DqvicRqMehe"
      },
      "outputs": [],
      "source": [
        "def multiply(numbers):\n",
        "    product = 1\n",
        "    for i in numbers:\n",
        "      product *= i\n",
        "    return product\n",
        ""
      ]
    },
    {
      "cell_type": "code",
      "execution_count": 29,
      "metadata": {
        "id": "NuM1ncfuMehg",
        "outputId": "97dae9bb-fabf-4b86-89ae-b578724b004c",
        "colab": {
          "base_uri": "https://localhost:8080/"
        }
      },
      "outputs": [
        {
          "output_type": "execute_result",
          "data": {
            "text/plain": [
              "-24"
            ]
          },
          "metadata": {},
          "execution_count": 29
        }
      ],
      "source": [
        "multiply([1,2,3,-4])"
      ]
    },
    {
      "cell_type": "markdown",
      "metadata": {
        "id": "X4rMVkXPMehj"
      },
      "source": [
        "____\n",
        "**Write a Python function that checks whether a word or phrase is palindrome or not.**\n",
        "\n",
        "Note: A palindrome is word, phrase, or sequence that reads the same backward as forward, e.g., madam,kayak,racecar, or a phrase \"nurses run\". Hint: You may want to check out the .replace() method in a string to help out with dealing with spaces. Also google search how to reverse a string in Python, there are some clever ways to do it with slicing notation."
      ]
    },
    {
      "cell_type": "code",
      "execution_count": 31,
      "metadata": {
        "collapsed": true,
        "id": "hD3zog0RMeho"
      },
      "outputs": [],
      "source": [
        "def palindrome(s):\n",
        "    return s[::-1] == s\n"
      ]
    },
    {
      "cell_type": "code",
      "execution_count": 32,
      "metadata": {
        "id": "RRpqlb6fMehp",
        "outputId": "f11d5de2-93a9-4e16-c4fc-4888c85cce2c",
        "colab": {
          "base_uri": "https://localhost:8080/"
        }
      },
      "outputs": [
        {
          "output_type": "execute_result",
          "data": {
            "text/plain": [
              "True"
            ]
          },
          "metadata": {},
          "execution_count": 32
        }
      ],
      "source": [
        "palindrome('helleh')"
      ]
    },
    {
      "cell_type": "markdown",
      "metadata": {
        "id": "nuf2VGTtMeht"
      },
      "source": [
        "____\n",
        "#### Hard:\n",
        "\n",
        "**Write a Python function to check whether a string is pangram or not. (Assume the string passed in does not have any punctuation)**\n",
        "\n",
        "    Note : Pangrams are words or sentences containing every letter of the alphabet at least once.\n",
        "    For example : \"The quick brown fox jumps over the lazy dog\"\n",
        "\n",
        "Hint: You may want to use .replace() method to get rid of spaces.\n",
        "\n",
        "Hint: Look at the [string module](https://stackoverflow.com/questions/16060899/alphabet-range-in-python)\n",
        "\n",
        "Hint: In case you want to use [set comparisons](https://medium.com/better-programming/a-visual-guide-to-set-comparisons-in-python-6ab7edb9ec41)"
      ]
    },
    {
      "cell_type": "code",
      "execution_count": 38,
      "metadata": {
        "collapsed": true,
        "id": "DSXaCG1pMehv"
      },
      "outputs": [],
      "source": [
        "import string\n",
        "\n",
        "def ispangram(str1, alphabet=string.ascii_lowercase):\n",
        "    return set(alphabet) == set((str1.replace(\" \", \"\").lower()))"
      ]
    },
    {
      "cell_type": "code",
      "execution_count": 39,
      "metadata": {
        "id": "ckKHfiQoMehx",
        "outputId": "ea7ec8e8-462a-4103-bd3e-9202c9cfe555",
        "colab": {
          "base_uri": "https://localhost:8080/"
        }
      },
      "outputs": [
        {
          "output_type": "execute_result",
          "data": {
            "text/plain": [
              "True"
            ]
          },
          "metadata": {},
          "execution_count": 39
        }
      ],
      "source": [
        "ispangram(\"The quick brown fox jumps over the lazy dog\")"
      ]
    },
    {
      "cell_type": "code",
      "execution_count": null,
      "metadata": {
        "id": "l5FeV7eDMehz",
        "outputId": "d007e37e-0285-4529-cc78-d59dcdc978ba"
      },
      "outputs": [
        {
          "data": {
            "text/plain": [
              "'abcdefghijklmnopqrstuvwxyz'"
            ]
          },
          "execution_count": 17,
          "metadata": {},
          "output_type": "execute_result"
        }
      ],
      "source": [
        "string.ascii_lowercase"
      ]
    },
    {
      "cell_type": "markdown",
      "metadata": {
        "collapsed": true,
        "id": "GBJcpn3XMeh2"
      },
      "source": [
        "#### Great Job!"
      ]
    }
  ],
  "metadata": {
    "kernelspec": {
      "display_name": "Python 3",
      "language": "python",
      "name": "python3"
    },
    "language_info": {
      "codemirror_mode": {
        "name": "ipython",
        "version": 3
      },
      "file_extension": ".py",
      "mimetype": "text/x-python",
      "name": "python",
      "nbconvert_exporter": "python",
      "pygments_lexer": "ipython3",
      "version": "3.6.6"
    },
    "colab": {
      "provenance": []
    }
  },
  "nbformat": 4,
  "nbformat_minor": 0
}
