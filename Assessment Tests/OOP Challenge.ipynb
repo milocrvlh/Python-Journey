{
  "cells": [
    {
      "cell_type": "markdown",
      "metadata": {
        "id": "ReP5B3Lk6bsM"
      },
      "source": [
        "___\n",
        "\n",
        "<a href='https://www.udemy.com/user/joseportilla/'><img src='https://github.com/Pierian-Data/Complete-Python-3-Bootcamp/blob/master/Pierian_Data_Logo.png?raw=1'/></a>\n",
        "___\n",
        "<center><em>Content Copyright by Pierian Data</em></center>"
      ]
    },
    {
      "cell_type": "markdown",
      "metadata": {
        "id": "8eWgDK8S6btS"
      },
      "source": [
        "# Object Oriented Programming Challenge\n",
        "\n",
        "For this challenge, create a bank account class that has two attributes:\n",
        "\n",
        "* owner\n",
        "* balance\n",
        "\n",
        "and two methods:\n",
        "\n",
        "* deposit\n",
        "* withdraw\n",
        "\n",
        "As an added requirement, withdrawals may not exceed the available balance.\n",
        "\n",
        "Instantiate your class, make several deposits and withdrawals, and test to make sure the account can't be overdrawn."
      ]
    },
    {
      "cell_type": "code",
      "execution_count": 18,
      "metadata": {
        "collapsed": true,
        "id": "gysIH4Q46btc"
      },
      "outputs": [],
      "source": [
        "class Account:\n",
        "    def __init__(self, owner, balance):\n",
        "      self.owner = owner\n",
        "      self.balance = balance\n",
        "\n",
        "    def deposit(self, value):\n",
        "      self.balance += value\n",
        "      print(\"Deposit Accepted\")\n",
        "\n",
        "    def withdraw(self, value):\n",
        "      if self.balance >= value:\n",
        "        self.balance -= value\n",
        "        print(\"Withdrawal Accepted\")\n",
        "      else:\n",
        "        print(\"Funds Unavailable!\")\n",
        "\n",
        "    def __str__(self):\n",
        "      return f\"Account Owner: {self.owner} \\nAcoount balance: ${self.balance}\"\n"
      ]
    },
    {
      "cell_type": "code",
      "execution_count": 19,
      "metadata": {
        "collapsed": true,
        "id": "ZEkcAlF16btx"
      },
      "outputs": [],
      "source": [
        "# 1. Instantiate the class\n",
        "acct1 = Account('Jose',100)"
      ]
    },
    {
      "cell_type": "code",
      "execution_count": 20,
      "metadata": {
        "id": "-GwOBKOU6bt6",
        "outputId": "cac219f9-6eab-4e22-8db5-a25051dcb0cb",
        "colab": {
          "base_uri": "https://localhost:8080/"
        }
      },
      "outputs": [
        {
          "output_type": "stream",
          "name": "stdout",
          "text": [
            "Account Owner: Jose \n",
            "Acoount balance: $100\n"
          ]
        }
      ],
      "source": [
        "# 2. Print the object\n",
        "print(acct1)"
      ]
    },
    {
      "cell_type": "code",
      "execution_count": 21,
      "metadata": {
        "id": "8zcs1QFG6buR",
        "outputId": "1fd81ace-b92e-4df0-af85-dce0e69ab386",
        "colab": {
          "base_uri": "https://localhost:8080/",
          "height": 35
        }
      },
      "outputs": [
        {
          "output_type": "execute_result",
          "data": {
            "text/plain": [
              "'Jose'"
            ],
            "application/vnd.google.colaboratory.intrinsic+json": {
              "type": "string"
            }
          },
          "metadata": {},
          "execution_count": 21
        }
      ],
      "source": [
        "# 3. Show the account owner attribute\n",
        "acct1.owner"
      ]
    },
    {
      "cell_type": "code",
      "execution_count": 22,
      "metadata": {
        "id": "9m541MJ46buX",
        "outputId": "3d25ffd3-93fc-4770-b614-b92c618a07c1",
        "colab": {
          "base_uri": "https://localhost:8080/"
        }
      },
      "outputs": [
        {
          "output_type": "execute_result",
          "data": {
            "text/plain": [
              "100"
            ]
          },
          "metadata": {},
          "execution_count": 22
        }
      ],
      "source": [
        "# 4. Show the account balance attribute\n",
        "acct1.balance"
      ]
    },
    {
      "cell_type": "code",
      "execution_count": 23,
      "metadata": {
        "id": "AA_C4l-06bud",
        "outputId": "66c6f635-94cf-4544-b29f-69c26672f9cf",
        "colab": {
          "base_uri": "https://localhost:8080/"
        }
      },
      "outputs": [
        {
          "output_type": "stream",
          "name": "stdout",
          "text": [
            "Deposit Accepted\n"
          ]
        }
      ],
      "source": [
        "# 5. Make a series of deposits and withdrawals\n",
        "acct1.deposit(50)"
      ]
    },
    {
      "cell_type": "code",
      "execution_count": 24,
      "metadata": {
        "id": "25O9Eph76buo",
        "outputId": "62b3c9fe-8620-445d-e62e-1b06f6238e5c",
        "colab": {
          "base_uri": "https://localhost:8080/"
        }
      },
      "outputs": [
        {
          "output_type": "stream",
          "name": "stdout",
          "text": [
            "Withdrawal Accepted\n"
          ]
        }
      ],
      "source": [
        "acct1.withdraw(75)"
      ]
    },
    {
      "cell_type": "code",
      "execution_count": 25,
      "metadata": {
        "id": "cPgS06RA6buz",
        "outputId": "6e55a6e3-893a-41a2-d369-ec84702897c9",
        "colab": {
          "base_uri": "https://localhost:8080/"
        }
      },
      "outputs": [
        {
          "output_type": "stream",
          "name": "stdout",
          "text": [
            "Funds Unavailable!\n"
          ]
        }
      ],
      "source": [
        "# 6. Make a withdrawal that exceeds the available balance\n",
        "acct1.withdraw(500)"
      ]
    },
    {
      "cell_type": "markdown",
      "metadata": {
        "id": "lPT2xGZ86bu5"
      },
      "source": [
        "## Good job!"
      ]
    }
  ],
  "metadata": {
    "kernelspec": {
      "display_name": "Python 3",
      "language": "python",
      "name": "python3"
    },
    "language_info": {
      "codemirror_mode": {
        "name": "ipython",
        "version": 3
      },
      "file_extension": ".py",
      "mimetype": "text/x-python",
      "name": "python",
      "nbconvert_exporter": "python",
      "pygments_lexer": "ipython3",
      "version": "3.6.6"
    },
    "colab": {
      "provenance": []
    }
  },
  "nbformat": 4,
  "nbformat_minor": 0
}