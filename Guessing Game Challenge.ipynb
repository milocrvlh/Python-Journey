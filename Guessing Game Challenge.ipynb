{
  "cells": [
    {
      "cell_type": "markdown",
      "metadata": {
        "id": "8S_7HP4_Z9hZ"
      },
      "source": [
        "___\n",
        "\n",
        "<a href='https://www.udemy.com/user/joseportilla/'><img src='https://github.com/Pierian-Data/Complete-Python-3-Bootcamp/blob/master/Pierian_Data_Logo.png?raw=1'/></a>\n",
        "___\n",
        "<center><em>Content Copyright by Pierian Data</em></center>"
      ]
    },
    {
      "cell_type": "markdown",
      "metadata": {
        "id": "pVMJR6ogZ9hq"
      },
      "source": [
        "# Guessing Game Challenge\n",
        "\n",
        "Let's use `while` loops to create a guessing game.\n",
        "\n",
        "The Challenge:\n",
        "\n",
        "Write a program that picks a random integer from 1 to 100, and has players guess the number. The rules are:\n",
        "\n",
        "1. If a player's guess is less than 1 or greater than 100, say \"OUT OF BOUNDS\"\n",
        "2. On a player's first turn, if their guess is\n",
        " * within 10 of the number, return \"WARM!\"\n",
        " * further than 10 away from the number, return \"COLD!\"\n",
        "3. On all subsequent turns, if a guess is\n",
        " * closer to the number than the previous guess return \"WARMER!\"\n",
        " * farther from the number than the previous guess, return \"COLDER!\"\n",
        "4. When the player's guess equals the number, tell them they've guessed correctly *and* how many guesses it took!\n",
        "\n",
        "You can try this from scratch, or follow the steps outlined below. A separate Solution notebook has been provided. Good luck!\n"
      ]
    },
    {
      "cell_type": "markdown",
      "metadata": {
        "id": "AuCvXxuAZ9hx"
      },
      "source": [
        "#### First, pick a random integer from 1 to 100 using the random module and assign it to a variable\n",
        "\n",
        "Note: `random.randint(a,b)` returns a random integer in range `[a, b]`, including both end points."
      ]
    },
    {
      "cell_type": "markdown",
      "metadata": {
        "id": "bPnBqo5TZ9iD"
      },
      "source": [
        "#### Next, print an introduction to the game and explain the rules"
      ]
    },
    {
      "cell_type": "markdown",
      "metadata": {
        "id": "IrxuOOb0Z9iR"
      },
      "source": [
        "#### Create a list to store guesses\n",
        "\n",
        "Hint: zero is a good placeholder value. It's useful because it evaluates to \"False\""
      ]
    },
    {
      "cell_type": "markdown",
      "metadata": {
        "id": "ymJeDo2xZ9is"
      },
      "source": [
        "#### Write a `while` loop that asks for a valid guess. Test it a few times to make sure it works."
      ]
    },
    {
      "cell_type": "markdown",
      "metadata": {
        "id": "i67Mc8sTZ9jN"
      },
      "source": [
        "#### Write a `while` loop that compares the player's guess to our number. If the player guesses correctly, break from the loop. Otherwise, tell the player if they're warmer or colder, and continue asking for guesses.\n",
        "\n",
        "Some hints:\n",
        "* it may help to sketch out all possible combinations on paper first!\n",
        "* you can use the `abs()` function to find the positive difference between two numbers\n",
        "* if you append all new guesses to the list, then the previous guess is given as `guesses[-2]`"
      ]
    },
    {
      "cell_type": "code",
      "source": [
        "from random import randint\n",
        "\n",
        "# Number Picking\n",
        "chosen = randint(1, 100)\n",
        "\n",
        "# Introduction\n",
        "print(\"Welcome!\", \"This game works this way:\", \"I thought of an number that ranges from 1 to 100;\",\n",
        "      \"I'll give you hints as you get closer;\", \"You have unlimited guesses.\", \"Good luck!\", sep=\"\\n\")\n",
        "\n",
        "# List to store guesses\n",
        "guesses = []\n",
        "\n",
        "# Loop to grab guesses\n",
        "while True:\n",
        "    user_input = input(\"Your guess: \")\n",
        "\n",
        "    # Verificar se a entrada é um número\n",
        "    if user_input.isdigit():\n",
        "        guess = int(user_input)\n",
        "\n",
        "        # Verificar se o palpite está no intervalo\n",
        "        if 1 <= guess <= 100:\n",
        "            if len(guesses) == 0:\n",
        "                if guess == chosen:\n",
        "                    print(\"You guessed correctly, on the first try!\")\n",
        "                    break\n",
        "                elif abs(guess - chosen) <= 10:\n",
        "                    print(\"Warm!\")\n",
        "                    guesses.append(guess)\n",
        "                else:\n",
        "                    print(\"Cold!\")\n",
        "                    guesses.append(guess)\n",
        "            else:\n",
        "                if guess == chosen:\n",
        "                    guesses.append(guess)\n",
        "                    print(f\"You guessed correctly, after {len(guesses)} attempts!\")\n",
        "                    break\n",
        "                elif abs(guess - chosen) <= abs(guesses[-1] - chosen):\n",
        "                    print(\"Warmer!\")\n",
        "                    guesses.append(guess)\n",
        "                else:\n",
        "                    print(\"Colder!\")\n",
        "                    guesses.append(guess)\n",
        "        else:\n",
        "            print(\"OUT OF BOUNDS\")\n",
        "    else:\n",
        "        print(\"Please enter a valid number.\")\n"
      ],
      "metadata": {
        "id": "ffmt50UZqroA",
        "outputId": "3ca756b6-7c25-4cb5-aaf8-4992d1a9529b",
        "colab": {
          "base_uri": "https://localhost:8080/"
        }
      },
      "execution_count": 23,
      "outputs": [
        {
          "output_type": "stream",
          "name": "stdout",
          "text": [
            "Welcome!\n",
            "This game works this way:\n",
            "I thought of an number that ranges from 1 to 100;\n",
            "I'll give you hints as you get closer;\n",
            "You have unlimited guesses.\n",
            "Good luck!\n",
            "Your guess: 50\n",
            "Cold!\n",
            "Your guess: 75\n",
            "Warmer!\n",
            "Your guess: 62\n",
            "Colder!\n",
            "Your guess: 87\n",
            "Warmer!\n",
            "Your guess: 95\n",
            "Warmer!\n",
            "Your guess: 98\n",
            "You guessed correctly, after 6 attempts!\n"
          ]
        }
      ]
    },
    {
      "cell_type": "markdown",
      "metadata": {
        "id": "HMMc1eihZ9jf"
      },
      "source": [
        "That's it! You've just programmed your first game!\n",
        "\n",
        "In the next section we'll learn how to turn some of these repetitive actions into *functions* that can be called whenever we need them."
      ]
    },
    {
      "cell_type": "markdown",
      "metadata": {
        "id": "5vNVBNErZ9jj"
      },
      "source": [
        "### Good Job!"
      ]
    }
  ],
  "metadata": {
    "kernelspec": {
      "display_name": "Python 3",
      "language": "python",
      "name": "python3"
    },
    "language_info": {
      "codemirror_mode": {
        "name": "ipython",
        "version": 3
      },
      "file_extension": ".py",
      "mimetype": "text/x-python",
      "name": "python",
      "nbconvert_exporter": "python",
      "pygments_lexer": "ipython3",
      "version": "3.6.6"
    },
    "colab": {
      "provenance": []
    }
  },
  "nbformat": 4,
  "nbformat_minor": 0
}